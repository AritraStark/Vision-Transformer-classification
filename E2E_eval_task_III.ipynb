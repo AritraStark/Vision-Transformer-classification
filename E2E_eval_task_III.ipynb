{
  "nbformat": 4,
  "nbformat_minor": 0,
  "metadata": {
    "colab": {
      "name": "E2E_task_3.ipynb",
      "provenance": [],
      "include_colab_link": true
    },
    "kernelspec": {
      "name": "python3",
      "display_name": "Python 3"
    },
    "language_info": {
      "name": "python"
    },
    "accelerator": "GPU"
  },
  "cells": [
    {
      "cell_type": "markdown",
      "metadata": {
        "id": "view-in-github",
        "colab_type": "text"
      },
      "source": [
        "<a href=\"https://colab.research.google.com/github/AritraStark/Vision-Transformer-classification/blob/main/E2E_eval_task_III.ipynb\" target=\"_parent\"><img src=\"https://colab.research.google.com/assets/colab-badge.svg\" alt=\"Open In Colab\"/></a>"
      ]
    },
    {
      "cell_type": "markdown",
      "source": [
        "**Topic: Vision Transformer classification**\n",
        "\n",
        "**Datasets**:\n",
        "\n",
        "* https://cernbox.cern.ch/index.php/s/AtBT8y4MiQYFcgc (Photons)\n",
        "* https://cernbox.cern.ch/index.php/s/FbXw3V4XNyYB3oA (Electrons)\n",
        "\n",
        "**Description:** 32x32 matrices (two channels - hit energy and time) for two classes of particles electrons and photons impinging on a calorimeter A Vision Transformer model to classify them."
      ],
      "metadata": {
        "id": "qWDok3qwPNHb"
      }
    },
    {
      "cell_type": "markdown",
      "source": [
        "Downloading the dataset:"
      ],
      "metadata": {
        "id": "6x28wOZkPAWU"
      }
    },
    {
      "cell_type": "code",
      "source": [
        "!wget https://cernbox.cern.ch/index.php/s/AtBT8y4MiQYFcgc/download -O photons.hdf5\n",
        "!wget https://cernbox.cern.ch/index.php/s/FbXw3V4XNyYB3oA/download -O electrons.hdf5"
      ],
      "metadata": {
        "id": "LKaG39RlPC7_",
        "outputId": "ab877137-9d34-4c8c-9d90-df5159c87fbb",
        "colab": {
          "base_uri": "https://localhost:8080/"
        }
      },
      "execution_count": null,
      "outputs": [
        {
          "output_type": "stream",
          "name": "stdout",
          "text": [
            "--2022-04-04 01:45:59--  https://cernbox.cern.ch/index.php/s/AtBT8y4MiQYFcgc/download\n",
            "Resolving cernbox.cern.ch (cernbox.cern.ch)... 128.142.53.28, 188.184.97.72, 137.138.120.151, ...\n",
            "Connecting to cernbox.cern.ch (cernbox.cern.ch)|128.142.53.28|:443... connected.\n",
            "HTTP request sent, awaiting response... 200 OK\n",
            "Length: 119703858 (114M) [application/octet-stream]\n",
            "Saving to: ‘photons.hdf5’\n",
            "\n",
            "photons.hdf5        100%[===================>] 114.16M  27.4MB/s    in 4.8s    \n",
            "\n",
            "Last-modified header invalid -- time-stamp ignored.\n",
            "2022-04-04 01:46:06 (23.6 MB/s) - ‘photons.hdf5’ saved [119703858/119703858]\n",
            "\n",
            "--2022-04-04 01:46:06--  https://cernbox.cern.ch/index.php/s/FbXw3V4XNyYB3oA/download\n",
            "Resolving cernbox.cern.ch (cernbox.cern.ch)... 128.142.53.28, 188.184.97.72, 137.138.120.151, ...\n",
            "Connecting to cernbox.cern.ch (cernbox.cern.ch)|128.142.53.28|:443... connected.\n",
            "HTTP request sent, awaiting response... 200 OK\n",
            "Length: 128927319 (123M) [application/octet-stream]\n",
            "Saving to: ‘electrons.hdf5’\n",
            "\n",
            "electrons.hdf5      100%[===================>] 122.95M  28.8MB/s    in 5.0s    \n",
            "\n",
            "Last-modified header invalid -- time-stamp ignored.\n",
            "2022-04-04 01:46:13 (24.6 MB/s) - ‘electrons.hdf5’ saved [128927319/128927319]\n",
            "\n"
          ]
        }
      ]
    },
    {
      "cell_type": "markdown",
      "source": [
        "Setting up imports:"
      ],
      "metadata": {
        "id": "hRqApJkFOFJ6"
      }
    },
    {
      "cell_type": "code",
      "source": [
        "pip install -U tensorflow-addons"
      ],
      "metadata": {
        "id": "HeMXRr2pOMxw",
        "outputId": "6ea50352-046d-4b7d-c616-aa2f0dc47ccd",
        "colab": {
          "base_uri": "https://localhost:8080/"
        }
      },
      "execution_count": null,
      "outputs": [
        {
          "output_type": "stream",
          "name": "stdout",
          "text": [
            "Collecting tensorflow-addons\n",
            "  Downloading tensorflow_addons-0.16.1-cp37-cp37m-manylinux_2_12_x86_64.manylinux2010_x86_64.whl (1.1 MB)\n",
            "\u001b[?25l\r\u001b[K     |▎                               | 10 kB 31.9 MB/s eta 0:00:01\r\u001b[K     |▋                               | 20 kB 40.0 MB/s eta 0:00:01\r\u001b[K     |▉                               | 30 kB 33.3 MB/s eta 0:00:01\r\u001b[K     |█▏                              | 40 kB 24.0 MB/s eta 0:00:01\r\u001b[K     |█▌                              | 51 kB 19.8 MB/s eta 0:00:01\r\u001b[K     |█▊                              | 61 kB 22.8 MB/s eta 0:00:01\r\u001b[K     |██                              | 71 kB 22.8 MB/s eta 0:00:01\r\u001b[K     |██▍                             | 81 kB 24.4 MB/s eta 0:00:01\r\u001b[K     |██▋                             | 92 kB 26.4 MB/s eta 0:00:01\r\u001b[K     |███                             | 102 kB 27.4 MB/s eta 0:00:01\r\u001b[K     |███▏                            | 112 kB 27.4 MB/s eta 0:00:01\r\u001b[K     |███▌                            | 122 kB 27.4 MB/s eta 0:00:01\r\u001b[K     |███▉                            | 133 kB 27.4 MB/s eta 0:00:01\r\u001b[K     |████                            | 143 kB 27.4 MB/s eta 0:00:01\r\u001b[K     |████▍                           | 153 kB 27.4 MB/s eta 0:00:01\r\u001b[K     |████▊                           | 163 kB 27.4 MB/s eta 0:00:01\r\u001b[K     |█████                           | 174 kB 27.4 MB/s eta 0:00:01\r\u001b[K     |█████▎                          | 184 kB 27.4 MB/s eta 0:00:01\r\u001b[K     |█████▌                          | 194 kB 27.4 MB/s eta 0:00:01\r\u001b[K     |█████▉                          | 204 kB 27.4 MB/s eta 0:00:01\r\u001b[K     |██████▏                         | 215 kB 27.4 MB/s eta 0:00:01\r\u001b[K     |██████▍                         | 225 kB 27.4 MB/s eta 0:00:01\r\u001b[K     |██████▊                         | 235 kB 27.4 MB/s eta 0:00:01\r\u001b[K     |███████                         | 245 kB 27.4 MB/s eta 0:00:01\r\u001b[K     |███████▎                        | 256 kB 27.4 MB/s eta 0:00:01\r\u001b[K     |███████▋                        | 266 kB 27.4 MB/s eta 0:00:01\r\u001b[K     |███████▉                        | 276 kB 27.4 MB/s eta 0:00:01\r\u001b[K     |████████▏                       | 286 kB 27.4 MB/s eta 0:00:01\r\u001b[K     |████████▌                       | 296 kB 27.4 MB/s eta 0:00:01\r\u001b[K     |████████▊                       | 307 kB 27.4 MB/s eta 0:00:01\r\u001b[K     |█████████                       | 317 kB 27.4 MB/s eta 0:00:01\r\u001b[K     |█████████▍                      | 327 kB 27.4 MB/s eta 0:00:01\r\u001b[K     |█████████▋                      | 337 kB 27.4 MB/s eta 0:00:01\r\u001b[K     |██████████                      | 348 kB 27.4 MB/s eta 0:00:01\r\u001b[K     |██████████▏                     | 358 kB 27.4 MB/s eta 0:00:01\r\u001b[K     |██████████▌                     | 368 kB 27.4 MB/s eta 0:00:01\r\u001b[K     |██████████▉                     | 378 kB 27.4 MB/s eta 0:00:01\r\u001b[K     |███████████                     | 389 kB 27.4 MB/s eta 0:00:01\r\u001b[K     |███████████▍                    | 399 kB 27.4 MB/s eta 0:00:01\r\u001b[K     |███████████▊                    | 409 kB 27.4 MB/s eta 0:00:01\r\u001b[K     |████████████                    | 419 kB 27.4 MB/s eta 0:00:01\r\u001b[K     |████████████▎                   | 430 kB 27.4 MB/s eta 0:00:01\r\u001b[K     |████████████▌                   | 440 kB 27.4 MB/s eta 0:00:01\r\u001b[K     |████████████▉                   | 450 kB 27.4 MB/s eta 0:00:01\r\u001b[K     |█████████████▏                  | 460 kB 27.4 MB/s eta 0:00:01\r\u001b[K     |█████████████▍                  | 471 kB 27.4 MB/s eta 0:00:01\r\u001b[K     |█████████████▊                  | 481 kB 27.4 MB/s eta 0:00:01\r\u001b[K     |██████████████                  | 491 kB 27.4 MB/s eta 0:00:01\r\u001b[K     |██████████████▎                 | 501 kB 27.4 MB/s eta 0:00:01\r\u001b[K     |██████████████▋                 | 512 kB 27.4 MB/s eta 0:00:01\r\u001b[K     |██████████████▉                 | 522 kB 27.4 MB/s eta 0:00:01\r\u001b[K     |███████████████▏                | 532 kB 27.4 MB/s eta 0:00:01\r\u001b[K     |███████████████▌                | 542 kB 27.4 MB/s eta 0:00:01\r\u001b[K     |███████████████▊                | 552 kB 27.4 MB/s eta 0:00:01\r\u001b[K     |████████████████                | 563 kB 27.4 MB/s eta 0:00:01\r\u001b[K     |████████████████▍               | 573 kB 27.4 MB/s eta 0:00:01\r\u001b[K     |████████████████▋               | 583 kB 27.4 MB/s eta 0:00:01\r\u001b[K     |█████████████████               | 593 kB 27.4 MB/s eta 0:00:01\r\u001b[K     |█████████████████▏              | 604 kB 27.4 MB/s eta 0:00:01\r\u001b[K     |█████████████████▌              | 614 kB 27.4 MB/s eta 0:00:01\r\u001b[K     |█████████████████▉              | 624 kB 27.4 MB/s eta 0:00:01\r\u001b[K     |██████████████████              | 634 kB 27.4 MB/s eta 0:00:01\r\u001b[K     |██████████████████▍             | 645 kB 27.4 MB/s eta 0:00:01\r\u001b[K     |██████████████████▊             | 655 kB 27.4 MB/s eta 0:00:01\r\u001b[K     |███████████████████             | 665 kB 27.4 MB/s eta 0:00:01\r\u001b[K     |███████████████████▎            | 675 kB 27.4 MB/s eta 0:00:01\r\u001b[K     |███████████████████▌            | 686 kB 27.4 MB/s eta 0:00:01\r\u001b[K     |███████████████████▉            | 696 kB 27.4 MB/s eta 0:00:01\r\u001b[K     |████████████████████▏           | 706 kB 27.4 MB/s eta 0:00:01\r\u001b[K     |████████████████████▍           | 716 kB 27.4 MB/s eta 0:00:01\r\u001b[K     |████████████████████▊           | 727 kB 27.4 MB/s eta 0:00:01\r\u001b[K     |█████████████████████           | 737 kB 27.4 MB/s eta 0:00:01\r\u001b[K     |█████████████████████▎          | 747 kB 27.4 MB/s eta 0:00:01\r\u001b[K     |█████████████████████▋          | 757 kB 27.4 MB/s eta 0:00:01\r\u001b[K     |█████████████████████▉          | 768 kB 27.4 MB/s eta 0:00:01\r\u001b[K     |██████████████████████▏         | 778 kB 27.4 MB/s eta 0:00:01\r\u001b[K     |██████████████████████▌         | 788 kB 27.4 MB/s eta 0:00:01\r\u001b[K     |██████████████████████▊         | 798 kB 27.4 MB/s eta 0:00:01\r\u001b[K     |███████████████████████         | 808 kB 27.4 MB/s eta 0:00:01\r\u001b[K     |███████████████████████▍        | 819 kB 27.4 MB/s eta 0:00:01\r\u001b[K     |███████████████████████▋        | 829 kB 27.4 MB/s eta 0:00:01\r\u001b[K     |████████████████████████        | 839 kB 27.4 MB/s eta 0:00:01\r\u001b[K     |████████████████████████▏       | 849 kB 27.4 MB/s eta 0:00:01\r\u001b[K     |████████████████████████▌       | 860 kB 27.4 MB/s eta 0:00:01\r\u001b[K     |████████████████████████▉       | 870 kB 27.4 MB/s eta 0:00:01\r\u001b[K     |█████████████████████████       | 880 kB 27.4 MB/s eta 0:00:01\r\u001b[K     |█████████████████████████▍      | 890 kB 27.4 MB/s eta 0:00:01\r\u001b[K     |█████████████████████████▊      | 901 kB 27.4 MB/s eta 0:00:01\r\u001b[K     |██████████████████████████      | 911 kB 27.4 MB/s eta 0:00:01\r\u001b[K     |██████████████████████████▎     | 921 kB 27.4 MB/s eta 0:00:01\r\u001b[K     |██████████████████████████▌     | 931 kB 27.4 MB/s eta 0:00:01\r\u001b[K     |██████████████████████████▉     | 942 kB 27.4 MB/s eta 0:00:01\r\u001b[K     |███████████████████████████▏    | 952 kB 27.4 MB/s eta 0:00:01\r\u001b[K     |███████████████████████████▍    | 962 kB 27.4 MB/s eta 0:00:01\r\u001b[K     |███████████████████████████▊    | 972 kB 27.4 MB/s eta 0:00:01\r\u001b[K     |████████████████████████████    | 983 kB 27.4 MB/s eta 0:00:01\r\u001b[K     |████████████████████████████▎   | 993 kB 27.4 MB/s eta 0:00:01\r\u001b[K     |████████████████████████████▋   | 1.0 MB 27.4 MB/s eta 0:00:01\r\u001b[K     |████████████████████████████▉   | 1.0 MB 27.4 MB/s eta 0:00:01\r\u001b[K     |█████████████████████████████▏  | 1.0 MB 27.4 MB/s eta 0:00:01\r\u001b[K     |█████████████████████████████▌  | 1.0 MB 27.4 MB/s eta 0:00:01\r\u001b[K     |█████████████████████████████▊  | 1.0 MB 27.4 MB/s eta 0:00:01\r\u001b[K     |██████████████████████████████  | 1.1 MB 27.4 MB/s eta 0:00:01\r\u001b[K     |██████████████████████████████▍ | 1.1 MB 27.4 MB/s eta 0:00:01\r\u001b[K     |██████████████████████████████▋ | 1.1 MB 27.4 MB/s eta 0:00:01\r\u001b[K     |███████████████████████████████ | 1.1 MB 27.4 MB/s eta 0:00:01\r\u001b[K     |███████████████████████████████▏| 1.1 MB 27.4 MB/s eta 0:00:01\r\u001b[K     |███████████████████████████████▌| 1.1 MB 27.4 MB/s eta 0:00:01\r\u001b[K     |███████████████████████████████▉| 1.1 MB 27.4 MB/s eta 0:00:01\r\u001b[K     |████████████████████████████████| 1.1 MB 27.4 MB/s \n",
            "\u001b[?25hRequirement already satisfied: typeguard>=2.7 in /usr/local/lib/python3.7/dist-packages (from tensorflow-addons) (2.7.1)\n",
            "Installing collected packages: tensorflow-addons\n",
            "Successfully installed tensorflow-addons-0.16.1\n"
          ]
        }
      ]
    },
    {
      "cell_type": "code",
      "source": [
        "import numpy as np\n",
        "import tensorflow as tf\n",
        "import h5py\n",
        "import pandas as pd\n",
        "import matplotlib.pyplot as plt\n",
        "from sklearn.model_selection import train_test_split\n",
        "from sklearn.metrics import auc, roc_curve, roc_auc_score\n",
        "import tensorflow_addons as tfa\n",
        "from sklearn.metrics import classification_report"
      ],
      "metadata": {
        "id": "zDTIwBtYOFfG"
      },
      "execution_count": null,
      "outputs": []
    },
    {
      "cell_type": "markdown",
      "source": [
        "Get the data from the downloaded HDF5 files and combine the loaded datasets:"
      ],
      "metadata": {
        "id": "Jn-hXYkjORnF"
      }
    },
    {
      "cell_type": "code",
      "source": [
        "X_electron = np.array(h5py.File(\"electrons.hdf5\",'r').get(name=\"X\")[()])\n",
        "y_electron = np.array(h5py.File(\"electrons.hdf5\",'r').get(name=\"y\")[()])\n",
        "X_photon = np.array(h5py.File(\"photons.hdf5\",'r').get(name=\"X\")[()])\n",
        "y_photon = np.array(h5py.File(\"photons.hdf5\",'r').get(name=\"y\")[()])\n",
        "\n",
        "X_particles = np.concatenate((X_electron,X_photon),axis=0)\n",
        "y_particles = np.concatenate((y_electron,y_photon),axis=0)\n",
        "print(X_particles.shape,y_particles.shape)\n",
        "\n",
        "del X_electron\n",
        "del X_photon\n",
        "del y_electron\n",
        "del y_photon\n",
        "\n",
        "rand_seed = 263\n",
        "index = np.random.permutation(len(y_particles))\n",
        "X_particles, y_particles = X_particles[index][:,:,:,0], y_particles[index]"
      ],
      "metadata": {
        "id": "-CxtTfhQOSar",
        "outputId": "5b6f0af9-e7e5-4dbf-c034-d8d9085f4e01",
        "colab": {
          "base_uri": "https://localhost:8080/"
        }
      },
      "execution_count": null,
      "outputs": [
        {
          "output_type": "stream",
          "name": "stdout",
          "text": [
            "(498000, 32, 32, 2) (498000,)\n"
          ]
        }
      ]
    },
    {
      "cell_type": "markdown",
      "source": [
        "Splitting the data into training and testing sets ( I have split it in 80-20 as per instructions):\n",
        "\n"
      ],
      "metadata": {
        "id": "roho6BskOVH3"
      }
    },
    {
      "cell_type": "code",
      "source": [
        "X_train, X_test, Y_train, Y_test = train_test_split( X_particles, y_particles, random_state=20, test_size=0.2 )\n",
        "#del stream_data\n",
        "del X_particles\n",
        "del y_particles"
      ],
      "metadata": {
        "id": "WZWIqCUVOZMT"
      },
      "execution_count": null,
      "outputs": []
    },
    {
      "cell_type": "markdown",
      "source": [
        "Configuring the hyperparameters\n",
        "\n"
      ],
      "metadata": {
        "id": "1bjM-7uANQNZ"
      }
    },
    {
      "cell_type": "code",
      "execution_count": null,
      "metadata": {
        "id": "Z69ft4M7NIf7"
      },
      "outputs": [],
      "source": [
        "num_classes = 1\n",
        "input_shape = (32, 32, 1)\n",
        "learning_rate = 0.0015\n",
        "batch_size = 64\n",
        "num_epochs = 20\n",
        "image_size = 32 # size for resize image\n",
        "patch_size = 8  # size of the patches to be extract from the input images\n",
        "num_patches = (image_size // patch_size) ** 2\n",
        "projection_dim = 64\n",
        "num_heads = 4\n",
        "transformer_units = [\n",
        "    projection_dim * 2,\n",
        "    projection_dim,\n",
        "]  # Size of the transformer layers\n",
        "transformer_layers = 1\n",
        "mlp_head_units = [1024, 512] "
      ]
    },
    {
      "cell_type": "markdown",
      "source": [
        "Defining data augmentations:\n",
        "\n"
      ],
      "metadata": {
        "id": "Tt_d03bwNTCi"
      }
    },
    {
      "cell_type": "code",
      "source": [
        "data_augmentation = tf.keras.Sequential(\n",
        "    [\n",
        "        tf.keras.layers.Normalization(),\n",
        "        tf.keras.layers.Resizing(image_size, image_size),\n",
        "        tf.keras.layers.RandomFlip(\"horizontal\"),\n",
        "        tf.keras.layers.RandomRotation(factor=0.02),\n",
        "        tf.keras.layers.RandomZoom(\n",
        "            height_factor=0.2, width_factor=0.2\n",
        "        ),\n",
        "    ],\n",
        "    name=\"data_augmentation\",\n",
        ")\n",
        "# Compute the mean and the variance of the training data for normalization.\n",
        "data_augmentation.layers[0].adapt(X_train)"
      ],
      "metadata": {
        "id": "DUsHmQ_6NUXJ"
      },
      "execution_count": null,
      "outputs": []
    },
    {
      "cell_type": "markdown",
      "source": [
        "Implementing multilayer perceptron (MLP):\n",
        "\n"
      ],
      "metadata": {
        "id": "jgcFPZ3ENW9L"
      }
    },
    {
      "cell_type": "code",
      "source": [
        "def mlp(x, hidden_units, dropout_rate):\n",
        "    for units in hidden_units:\n",
        "        x = tf.keras.layers.Dense(units, activation=tf.nn.gelu)(x)\n",
        "        x = tf.keras.layers.Dropout(dropout_rate)(x)\n",
        "    return x"
      ],
      "metadata": {
        "id": "YhZIFRcZNYUq"
      },
      "execution_count": null,
      "outputs": []
    },
    {
      "cell_type": "markdown",
      "source": [
        "Implementing patch creation as a layer:\n",
        "\n"
      ],
      "metadata": {
        "id": "TtNGg_nFNaEV"
      }
    },
    {
      "cell_type": "code",
      "source": [
        "class Patches(tf.keras.layers.Layer):\n",
        "    def __init__(self, patch_size):\n",
        "        super(Patches, self).__init__()\n",
        "        self.patch_size = patch_size\n",
        "\n",
        "    def call(self, images):\n",
        "        batch_size = tf.shape(images)[0]\n",
        "        patches = tf.image.extract_patches(\n",
        "            images=images,\n",
        "            sizes=[1, self.patch_size, self.patch_size, 1],\n",
        "            strides=[1, self.patch_size, self.patch_size, 1],\n",
        "            rates=[1, 1, 1, 1],\n",
        "            padding=\"VALID\",\n",
        "        )\n",
        "        patch_dims = patches.shape[-1]\n",
        "        patches = tf.reshape(patches, [batch_size, -1, patch_dims])\n",
        "        return patches"
      ],
      "metadata": {
        "id": "MmUaiJPONcRU"
      },
      "execution_count": null,
      "outputs": []
    },
    {
      "cell_type": "markdown",
      "source": [
        "Implementing the patch encoding layer:\n",
        "\n"
      ],
      "metadata": {
        "id": "taLr-CqANhoM"
      }
    },
    {
      "cell_type": "code",
      "source": [
        "class PatchEncoder(tf.keras.layers.Layer):\n",
        "    def __init__(self, num_patches, projection_dim):\n",
        "        super(PatchEncoder, self).__init__()\n",
        "        self.num_patches = num_patches\n",
        "        self.projection = tf.keras.layers.Dense(units=projection_dim)\n",
        "        self.position_embedding = tf.keras.layers.Embedding(\n",
        "            input_dim=num_patches, output_dim=projection_dim\n",
        "        )\n",
        "\n",
        "    def call(self, patch):\n",
        "        positions = tf.range(start=0, limit=self.num_patches, delta=1)\n",
        "        encoded = self.projection(patch) + self.position_embedding(positions)\n",
        "        return encoded"
      ],
      "metadata": {
        "id": "b-EZcAvnNjnE"
      },
      "execution_count": null,
      "outputs": []
    },
    {
      "cell_type": "markdown",
      "source": [
        "Defining the Vision Transformer (ViT) model:\n",
        "\n"
      ],
      "metadata": {
        "id": "ZTWMdQ-WNky0"
      }
    },
    {
      "cell_type": "code",
      "source": [
        "def create_vit_classifier():\n",
        "    inputs = tf.keras.layers.Input(shape=input_shape)\n",
        "    # Augment data.\n",
        "    augmented = data_augmentation(inputs)\n",
        "    # Create patches.\n",
        "    patches = Patches(patch_size)(augmented)\n",
        "    # Encode patches.\n",
        "    encoded_patches = PatchEncoder(num_patches, projection_dim)(patches)\n",
        "\n",
        "    # Create multiple layers of the Transformer block.\n",
        "    for _ in range(transformer_layers):\n",
        "        # Layer normalization 1.\n",
        "        x1 = tf.keras.layers.LayerNormalization(epsilon=1e-6)(encoded_patches)\n",
        "        # Create a multi-head attention layer.\n",
        "        attention_output = tf.keras.layers.MultiHeadAttention(\n",
        "            num_heads=num_heads, key_dim=projection_dim, dropout=0.1\n",
        "        )(x1, x1)\n",
        "        # Skip connection 1.\n",
        "        x2 = tf.keras.layers.Add()([attention_output, encoded_patches])\n",
        "        # Layer normalization 2.\n",
        "        x3 = tf.keras.layers.LayerNormalization(epsilon=1e-6)(x2)\n",
        "        # MLP.\n",
        "        x3 = mlp(x3, hidden_units=transformer_units, dropout_rate=0.1)\n",
        "        # Skip connection 2.\n",
        "        encoded_patches = tf.keras.layers.Add()([x3, x2])\n",
        "\n",
        "    # Create a [batch_size, projection_dim] tensor.\n",
        "    representation = tf.keras.layers.LayerNormalization(epsilon=1e-6)(encoded_patches)\n",
        "    representation = tf.keras.layers.Flatten()(representation)\n",
        "    representation = tf.keras.layers.Dropout(0.5)(representation)\n",
        "    # Add MLP.\n",
        "    features = mlp(representation, hidden_units=mlp_head_units, dropout_rate=0.5)\n",
        "    # Classify outputs.\n",
        "    logits = tf.keras.layers.Dense(num_classes)(features)\n",
        "    # Create the Keras model.\n",
        "    model = tf.keras.Model(inputs=inputs, outputs=logits)\n",
        "    return model"
      ],
      "metadata": {
        "id": "JLn-Y1ywNoAQ"
      },
      "execution_count": null,
      "outputs": []
    },
    {
      "cell_type": "markdown",
      "source": [
        "Compiling, training and evaluating the model:\n",
        "\n"
      ],
      "metadata": {
        "id": "N-EaU1drNolL"
      }
    },
    {
      "cell_type": "code",
      "source": [
        "def run_experiment(model):\n",
        "    optimizer = tfa.optimizers.AdamW(\n",
        "        learning_rate=learning_rate, weight_decay = weight_decay\n",
        "    )\n",
        "\n",
        "    model.compile(\n",
        "        optimizer=optimizer,\n",
        "        loss=tf.keras.losses.BinaryCrossentropy(from_logits=True),\n",
        "        metrics=[\n",
        "            tf.keras.metrics.BinaryAccuracy(name=\"binary_accuracy\", dtype=None, threshold=0.5),\n",
        "            tf.keras.metrics.AUC(from_logits=True),\n",
        "        ],\n",
        "    )\n",
        "\n",
        "    checkpoint_filepath = \"/tmp/checkpoint\"\n",
        "    checkpoint_callback = tf.keras.callbacks.ModelCheckpoint(\n",
        "        checkpoint_filepath,\n",
        "        monitor=\"binary_accuracy\",\n",
        "        save_best_only=True,\n",
        "        save_weights_only=True,\n",
        "    )\n",
        "\n",
        "    history = model.fit(\n",
        "        x=X_train,\n",
        "        y=Y_train,\n",
        "        batch_size=batch_size,\n",
        "        epochs=num_epochs,\n",
        "        validation_split=0.2,\n",
        "        callbacks=[checkpoint_callback],\n",
        "        shuffle = True\n",
        "    )\n",
        "\n",
        "    model.load_weights(checkpoint_filepath)\n",
        "    _, accuracy, auc = model.evaluate(X_test, Y_test)\n",
        "    print(f\"Test accuracy: {accuracy}\")\n",
        "    print(f\"Test AUC: {auc}\")\n",
        "\n",
        "    return history\n",
        "\n",
        "\n",
        "vit_classifier = create_vit_classifier()\n",
        "history = run_experiment(vit_classifier)"
      ],
      "metadata": {
        "id": "ilcroRa9NqGB",
        "outputId": "b804bbda-9b7c-4626-f757-4d7c30ae185a",
        "colab": {
          "base_uri": "https://localhost:8080/"
        }
      },
      "execution_count": null,
      "outputs": [
        {
          "output_type": "stream",
          "name": "stdout",
          "text": [
            "Epoch 1/20\n",
            "4980/4980 [==============================] - 46s 9ms/step - loss: 0.6892 - binary_accuracy: 0.5227 - auc_1: 0.5694 - val_loss: 0.6720 - val_binary_accuracy: 0.5226 - val_auc_1: 0.6393\n",
            "Epoch 2/20\n",
            "4980/4980 [==============================] - 44s 9ms/step - loss: 0.6762 - binary_accuracy: 0.5454 - auc_1: 0.6045 - val_loss: 0.6648 - val_binary_accuracy: 0.5502 - val_auc_1: 0.6546\n",
            "Epoch 3/20\n",
            "4980/4980 [==============================] - 43s 9ms/step - loss: 0.6696 - binary_accuracy: 0.5542 - auc_1: 0.6247 - val_loss: 0.6522 - val_binary_accuracy: 0.5513 - val_auc_1: 0.6764\n",
            "Epoch 4/20\n",
            "4980/4980 [==============================] - 43s 9ms/step - loss: 0.6639 - binary_accuracy: 0.5635 - auc_1: 0.6388 - val_loss: 0.6572 - val_binary_accuracy: 0.5757 - val_auc_1: 0.6815\n",
            "Epoch 5/20\n",
            "4980/4980 [==============================] - 43s 9ms/step - loss: 0.6609 - binary_accuracy: 0.5679 - auc_1: 0.6464 - val_loss: 0.6479 - val_binary_accuracy: 0.5626 - val_auc_1: 0.6870\n",
            "Epoch 6/20\n",
            "4980/4980 [==============================] - 43s 9ms/step - loss: 0.6574 - binary_accuracy: 0.5734 - auc_1: 0.6537 - val_loss: 0.6478 - val_binary_accuracy: 0.5545 - val_auc_1: 0.6843\n",
            "Epoch 7/20\n",
            "4980/4980 [==============================] - 43s 9ms/step - loss: 0.6555 - binary_accuracy: 0.5768 - auc_1: 0.6577 - val_loss: 0.6437 - val_binary_accuracy: 0.5658 - val_auc_1: 0.6895\n",
            "Epoch 8/20\n",
            "4980/4980 [==============================] - 44s 9ms/step - loss: 0.6548 - binary_accuracy: 0.5816 - auc_1: 0.6594 - val_loss: 0.6416 - val_binary_accuracy: 0.6113 - val_auc_1: 0.6867\n",
            "Epoch 9/20\n",
            "4980/4980 [==============================] - 44s 9ms/step - loss: 0.6541 - binary_accuracy: 0.5824 - auc_1: 0.6604 - val_loss: 0.6377 - val_binary_accuracy: 0.6104 - val_auc_1: 0.6903\n",
            "Epoch 10/20\n",
            "4980/4980 [==============================] - 43s 9ms/step - loss: 0.6536 - binary_accuracy: 0.5838 - auc_1: 0.6614 - val_loss: 0.6479 - val_binary_accuracy: 0.6205 - val_auc_1: 0.6823\n",
            "Epoch 11/20\n",
            "4980/4980 [==============================] - 42s 9ms/step - loss: 0.6526 - binary_accuracy: 0.5860 - auc_1: 0.6636 - val_loss: 0.6523 - val_binary_accuracy: 0.6354 - val_auc_1: 0.6859\n",
            "Epoch 12/20\n",
            "4980/4980 [==============================] - 44s 9ms/step - loss: 0.6524 - binary_accuracy: 0.5868 - auc_1: 0.6640 - val_loss: 0.6436 - val_binary_accuracy: 0.5801 - val_auc_1: 0.6882\n",
            "Epoch 13/20\n",
            "4980/4980 [==============================] - 43s 9ms/step - loss: 0.6522 - binary_accuracy: 0.5881 - auc_1: 0.6642 - val_loss: 0.6446 - val_binary_accuracy: 0.5952 - val_auc_1: 0.6837\n",
            "Epoch 14/20\n",
            "4980/4980 [==============================] - 43s 9ms/step - loss: 0.6515 - binary_accuracy: 0.5899 - auc_1: 0.6653 - val_loss: 0.6381 - val_binary_accuracy: 0.5921 - val_auc_1: 0.6910\n",
            "Epoch 15/20\n",
            "4980/4980 [==============================] - 42s 9ms/step - loss: 0.6514 - binary_accuracy: 0.5897 - auc_1: 0.6658 - val_loss: 0.6406 - val_binary_accuracy: 0.5996 - val_auc_1: 0.6884\n",
            "Epoch 16/20\n",
            "4980/4980 [==============================] - 42s 9ms/step - loss: 0.6522 - binary_accuracy: 0.5865 - auc_1: 0.6646 - val_loss: 0.6385 - val_binary_accuracy: 0.5783 - val_auc_1: 0.6967\n",
            "Epoch 17/20\n",
            "4980/4980 [==============================] - 44s 9ms/step - loss: 0.6520 - binary_accuracy: 0.5894 - auc_1: 0.6648 - val_loss: 0.6337 - val_binary_accuracy: 0.6114 - val_auc_1: 0.6967\n",
            "Epoch 18/20\n",
            "4980/4980 [==============================] - 44s 9ms/step - loss: 0.6514 - binary_accuracy: 0.5903 - auc_1: 0.6660 - val_loss: 0.6461 - val_binary_accuracy: 0.5900 - val_auc_1: 0.6878\n",
            "Epoch 19/20\n",
            "4980/4980 [==============================] - 44s 9ms/step - loss: 0.6510 - binary_accuracy: 0.5911 - auc_1: 0.6672 - val_loss: 0.6361 - val_binary_accuracy: 0.5962 - val_auc_1: 0.6931\n",
            "Epoch 20/20\n",
            "4980/4980 [==============================] - 49s 10ms/step - loss: 0.6513 - binary_accuracy: 0.5905 - auc_1: 0.6663 - val_loss: 0.6364 - val_binary_accuracy: 0.6230 - val_auc_1: 0.6937\n",
            "3113/3113 [==============================] - 18s 6ms/step - loss: 0.6369 - binary_accuracy: 0.5942 - auc_1: 0.6920\n",
            "Test accuracy: 0.5942369699478149\n",
            "Test AUC: 0.6920318603515625\n"
          ]
        }
      ]
    },
    {
      "cell_type": "markdown",
      "source": [
        "Predict on the validation data and load the best saved weight:\n",
        "\n"
      ],
      "metadata": {
        "id": "kdtPnNENNsPC"
      }
    },
    {
      "cell_type": "code",
      "source": [
        "predictions = vit_classifier.predict(X_test)\n",
        "temp_predictions = []\n",
        "for i in range(len(predictions)):\n",
        "    k = np.argmax(predictions[i])\n",
        "    temp_predictions.append(k)\n",
        "\n",
        "temp_predictions = np.array(temp_predictions)"
      ],
      "metadata": {
        "id": "FZsBmDobNwIP"
      },
      "execution_count": null,
      "outputs": []
    },
    {
      "cell_type": "markdown",
      "source": [
        "Plotting accuracy and loss curves:\n",
        "\n"
      ],
      "metadata": {
        "id": "sjNI_J5ENwn9"
      }
    },
    {
      "cell_type": "code",
      "source": [
        "plt.plot(history.history['binary_accuracy'])\n",
        "plt.plot(history.history['val_binary_accuracy'])\n",
        "plt.title('Accuracy of the model')\n",
        "plt.ylabel('Accuracy')\n",
        "plt.xlabel('Epochs')\n",
        "plt.legend(['Train', 'Test'], loc='lower right')\n",
        "plt.show()\n",
        "\n",
        "plt.plot(history.history['loss'])\n",
        "plt.plot(history.history['val_loss'])\n",
        "plt.title('Loss metrics of the model')\n",
        "plt.ylabel('Loss')\n",
        "plt.xlabel('Epochs')\n",
        "plt.legend(['train', 'test'], loc='upper right')\n",
        "plt.show()"
      ],
      "metadata": {
        "id": "R3jX6bUdNx3U",
        "outputId": "a0099832-4b24-4c18-9516-1f4f8330f0c5",
        "colab": {
          "base_uri": "https://localhost:8080/",
          "height": 573
        }
      },
      "execution_count": null,
      "outputs": [
        {
          "output_type": "display_data",
          "data": {
            "text/plain": [
              "<Figure size 432x288 with 1 Axes>"
            ],
            "image/png": "[encoded data removed]"
          },
          "metadata": {
            "needs_background": "light"
          }
        },
        {
          "output_type": "display_data",
          "data": {
            "text/plain": [
              "<Figure size 432x288 with 1 Axes>"
            ],
            "image/png": "[encoded data removed]"
          },
          "metadata": {
            "needs_background": "light"
          }
        }
      ]
    },
    {
      "cell_type": "markdown",
      "source": [
        ""
      ],
      "metadata": {
        "id": "rLQVtEQ6XyZx"
      }
    },
    {
      "cell_type": "code",
      "source": [
        "bin =[0 if p<0.5 else 1 for p in predictions]\n",
        "print(\"ROC AUC:\")\n",
        "roc_auc_score(Y_test, bin)"
      ],
      "metadata": {
        "id": "N-zheXDpXylX",
        "outputId": "970f23c2-9c33-412e-991f-e3f9fd921aa4",
        "colab": {
          "base_uri": "https://localhost:8080/"
        }
      },
      "execution_count": null,
      "outputs": [
        {
          "output_type": "stream",
          "name": "stdout",
          "text": [
            "ROC AUC:\n"
          ]
        },
        {
          "output_type": "execute_result",
          "data": {
            "text/plain": [
              "0.5957598802398181"
            ]
          },
          "metadata": {},
          "execution_count": 45
        }
      ]
    },
    {
      "cell_type": "markdown",
      "source": [
        "Plotting the ROC AUC curve:\n",
        "\n"
      ],
      "metadata": {
        "id": "8ubXcagPNzcl"
      }
    },
    {
      "cell_type": "code",
      "source": [
        "fpr, tpr, thresh = roc_curve(Y_test, bin, pos_label=1)\n",
        "plt.style.use('seaborn')\n",
        "plt.plot(fpr, tpr,color='blue')\n",
        "plt.title('ROC curve')\n",
        "plt.xlabel('False Positive Rate')\n",
        "plt.ylabel('True Positive rate')\n",
        "plt.legend(loc='best')\n",
        "plt.savefig('ROC',dpi=300)\n",
        "plt.show();"
      ],
      "metadata": {
        "id": "1-tX1RbvN1Wn",
        "outputId": "94a0e7c8-9450-4857-eb72-3223c2ba646f",
        "colab": {
          "base_uri": "https://localhost:8080/",
          "height": 393
        }
      },
      "execution_count": null,
      "outputs": [
        {
          "output_type": "stream",
          "name": "stderr",
          "text": [
            "No handles with labels found to put in legend.\n"
          ]
        },
        {
          "output_type": "display_data",
          "data": {
            "text/plain": [
              "<Figure size 576x396 with 1 Axes>"
            ],
            "image/png": "[encoded data removed]"
          },
          "metadata": {}
        }
      ]
    }
  ]
}